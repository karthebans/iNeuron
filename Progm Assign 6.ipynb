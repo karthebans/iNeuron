{
 "cells": [
  {
   "cell_type": "markdown",
   "metadata": {},
   "source": [
    "### 1.\tWrite a Python Program to Display Fibonacci Sequence Using Recursion? "
   ]
  },
  {
   "cell_type": "markdown",
   "metadata": {},
   "source": [
    "- Fibonacci sequence is the sequence of number which is addition of previous 2 numbers."
   ]
  },
  {
   "cell_type": "markdown",
   "metadata": {},
   "source": [
    "- Function can call other functions or call itself. This type of calling functions is called Recursion."
   ]
  },
  {
   "cell_type": "code",
   "execution_count": 24,
   "metadata": {},
   "outputs": [],
   "source": [
    "def recursion_fuction_fibonacci(x):\n",
    "    \n",
    "    first_number = 0                                           # starting 2 number has to be declared to start\n",
    "    second_number = 1\n",
    "\n",
    "    list_finonacci = []                          # creating empty list to insert finonacci numbers in it\n",
    "\n",
    "    count=0                                            # defining the starting count to repeat the action\n",
    "\n",
    "    while (count<=x):                     # while loop to repeat the action till no_of_times\n",
    "    \n",
    "        list_finonacci.append(first_number)                  # appending all the finonacci numbers in the list \n",
    "        \n",
    "        next_number = first_number + second_number                    # getting addition of previous 2 numbers\n",
    "    \n",
    "        first_number = second_number                      # changing the value in the first number byo second number\n",
    "    \n",
    "        second_number = next_number                  # changing the value in the variable second number by next number\n",
    "    \n",
    "        count+=1                       # increment the count value to repeat the above action till no of times value  \n",
    "    \n",
    "    return list_finonacci"
   ]
  },
  {
   "cell_type": "code",
   "execution_count": 25,
   "metadata": {},
   "outputs": [
    {
     "name": "stdout",
     "output_type": "stream",
     "text": [
      "Enter the number of times to display Fibonacci Sequence: 10\n",
      " Fibonacci Sequence of 10 times is : [0, 1, 1, 2, 3, 5, 8, 13, 21, 34, 55]\n"
     ]
    }
   ],
   "source": [
    "x1 = int(input('Enter the number of times to display Fibonacci Sequence: ')) \n",
    "\n",
    "print(f' Fibonacci Sequence of {x1} times is : {recursion_fuction_fibonacci(x1)}')"
   ]
  },
  {
   "cell_type": "markdown",
   "metadata": {},
   "source": [
    "### 2.\tWrite a Python Program to Find Factorial of Number Using Recursion? "
   ]
  },
  {
   "cell_type": "code",
   "execution_count": 3,
   "metadata": {},
   "outputs": [
    {
     "name": "stdout",
     "output_type": "stream",
     "text": [
      "Enter the Number to find the Factorial: 5\n",
      "The factorial of 5 is : 120\n"
     ]
    }
   ],
   "source": [
    "def r_factorial(n):\n",
    "    if n == 1:\n",
    "        return n\n",
    "    else:\n",
    "        return n*r_factorial(n-1)\n",
    "\n",
    "n1 = int(input('Enter the Number to find the Factorial: '))\n",
    "\n",
    "if n1==1:\n",
    "    print(f'The factorial of 1 is 0.')\n",
    "else:\n",
    "    print(f'The factorial of {n1} is : {r_factorial(n1)}')"
   ]
  },
  {
   "cell_type": "markdown",
   "metadata": {},
   "source": [
    "### 3.\tWrite a Python Program to calculate your Body Mass Index? "
   ]
  },
  {
   "cell_type": "markdown",
   "metadata": {},
   "source": [
    "- Formaula for Body Mass Index is : weight   /  (height X height) "
   ]
  },
  {
   "cell_type": "code",
   "execution_count": 9,
   "metadata": {},
   "outputs": [
    {
     "name": "stdout",
     "output_type": "stream",
     "text": [
      "Enter the weight in Kgs: 70\n",
      "Enter the height in Mtre: 1.5\n",
      "The Body Mass Index for 70.0 Kgs weight and 1.5 mtre height is: 31\n"
     ]
    }
   ],
   "source": [
    "weight = float(input('Enter the weight in Kgs: '))\n",
    "height = float(input('Enter the height in Mtre: '))\n",
    "\n",
    "body_mass_index = int(weight / (height * height))\n",
    "\n",
    "print(f'The Body Mass Index for {weight} Kgs weight and {height} mtre height is: {body_mass_index}')"
   ]
  },
  {
   "cell_type": "markdown",
   "metadata": {},
   "source": [
    "### 4.\tWrite a Python Program to calculate the natural logarithm of any number? "
   ]
  },
  {
   "cell_type": "code",
   "execution_count": 10,
   "metadata": {},
   "outputs": [],
   "source": [
    "import cmath"
   ]
  },
  {
   "cell_type": "code",
   "execution_count": 14,
   "metadata": {},
   "outputs": [
    {
     "name": "stdout",
     "output_type": "stream",
     "text": [
      "Enter the number to find the natural logarithm: 5\n",
      " The natural logarithm if 5 is : (1.6094379124341003+0j)\n"
     ]
    }
   ],
   "source": [
    "a = int(input('Enter the number to find the natural logarithm: '))\n",
    "\n",
    "print(f' The natural logarithm if {a} is : {cmath.log(a)}')"
   ]
  },
  {
   "cell_type": "markdown",
   "metadata": {},
   "source": [
    "### 5.\tWrite a Python Program for cube sum of first n natural numbers? "
   ]
  },
  {
   "cell_type": "code",
   "execution_count": 24,
   "metadata": {},
   "outputs": [
    {
     "data": {
      "text/plain": [
       "225"
      ]
     },
     "execution_count": 24,
     "metadata": {},
     "output_type": "execute_result"
    }
   ],
   "source": [
    "def sumofcubes(n):\n",
    "    \n",
    "    sum1 = 0\n",
    "    for i in range(1,n+1):\n",
    "        sum1+=i*i*i\n",
    "    return sum1\n",
    "\n",
    "sumofcubes(5) "
   ]
  }
 ],
 "metadata": {
  "kernelspec": {
   "display_name": "Python 3",
   "language": "python",
   "name": "python3"
  },
  "language_info": {
   "codemirror_mode": {
    "name": "ipython",
    "version": 3
   },
   "file_extension": ".py",
   "mimetype": "text/x-python",
   "name": "python",
   "nbconvert_exporter": "python",
   "pygments_lexer": "ipython3",
   "version": "3.8.5"
  }
 },
 "nbformat": 4,
 "nbformat_minor": 4
}
