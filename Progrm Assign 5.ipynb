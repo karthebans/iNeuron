{
 "cells": [
  {
   "cell_type": "markdown",
   "metadata": {},
   "source": [
    "### 1.\tWrite a Python Program to Find LCM? "
   ]
  },
  {
   "cell_type": "markdown",
   "metadata": {},
   "source": [
    "- LCM is Lowest Common Multiple(Divisor)."
   ]
  },
  {
   "cell_type": "code",
   "execution_count": 33,
   "metadata": {},
   "outputs": [
    {
     "name": "stdout",
     "output_type": "stream",
     "text": [
      "Enter the first number: 1000\n",
      "Enter the second number: 1222\n",
      "LCM of 1000 and 1222 is : 611000\n"
     ]
    }
   ],
   "source": [
    "n = int(input('Enter the first number: '))\n",
    "list1 = []\n",
    "for i in range(1, 1000):\n",
    "    pro = i*n\n",
    "    list1.append(pro)\n",
    "list1\n",
    "\n",
    "n1 = int(input('Enter the second number: '))\n",
    "list2 = []\n",
    "for j in range(1,1000):\n",
    "    pro1 = j*n1\n",
    "    list2.append(pro1)\n",
    "list2\n",
    "\n",
    "set1 = set(list1)\n",
    "set2 = set(list2)\n",
    "\n",
    "common_factor = set1.intersection(set2)\n",
    "\n",
    "lcm = min(common_factor)\n",
    "\n",
    "print(f'LCM of {n} and {n1} is : {lcm}')"
   ]
  },
  {
   "cell_type": "markdown",
   "metadata": {},
   "source": [
    "### 2.\tWrite a Python Program to Find HCF? "
   ]
  },
  {
   "cell_type": "markdown",
   "metadata": {},
   "source": [
    "- HCF is Higest Common Factor."
   ]
  },
  {
   "cell_type": "code",
   "execution_count": 13,
   "metadata": {},
   "outputs": [
    {
     "name": "stdout",
     "output_type": "stream",
     "text": [
      "Enter the first number: 25\n",
      "Enter the second number: 50\n",
      " Factors of 25 and 50 are: [1, 5, 25]\n",
      " HCF of 25 and 50 is : 25\n"
     ]
    }
   ],
   "source": [
    "num1 = int(input('Enter the first number: '))\n",
    "num2 = int(input('Enter the second number: '))\n",
    "\n",
    "minimum = min(num1, num2)\n",
    "\n",
    "list3 = []\n",
    "\n",
    "for i in range(1, minimum+1):\n",
    "    if (num1%i) == 0 and (num2%i) == 0:\n",
    "        list3.append(i)\n",
    "        hcf = max(list3)\n",
    "print(f' Factors of {num1} and {num2} are: {list3}')\n",
    "print(f' HCF of {num1} and {num2} is : {hcf}')"
   ]
  },
  {
   "cell_type": "code",
   "execution_count": 10,
   "metadata": {},
   "outputs": [
    {
     "name": "stdout",
     "output_type": "stream",
     "text": [
      "[1, 5, 25]\n"
     ]
    }
   ],
   "source": [
    "print(list3)"
   ]
  },
  {
   "cell_type": "markdown",
   "metadata": {},
   "source": [
    "### 3.\tWrite a Python Program to Convert Decimal to Binary, Octal and Hexadecimal? "
   ]
  },
  {
   "cell_type": "code",
   "execution_count": 22,
   "metadata": {},
   "outputs": [
    {
     "name": "stdout",
     "output_type": "stream",
     "text": [
      "Enter the Decimal number: 344\n",
      "Binary of 344 is: 0b101011000\n",
      "Octonal of 344 is: 0o530\n",
      "Hexadecomal of 344 is: 0x158\n"
     ]
    }
   ],
   "source": [
    "d = int(input('Enter the Decimal number: '))\n",
    "\n",
    "print(f'Binary of {d} is: {bin(d)}')\n",
    "print(f'Octonal of {d} is: {oct(d)}')\n",
    "print(f'Hexadecomal of {d} is: {hex(d)}')"
   ]
  },
  {
   "cell_type": "markdown",
   "metadata": {},
   "source": [
    "### 4.\tWrite a Python Program To Find ASCII value of a character? "
   ]
  },
  {
   "cell_type": "code",
   "execution_count": 29,
   "metadata": {},
   "outputs": [
    {
     "name": "stdout",
     "output_type": "stream",
     "text": [
      "Enter the Character for ASCII value: e\n",
      " ASCII value of \"e\" is 101\n"
     ]
    }
   ],
   "source": [
    "c = input('Enter the Character for ASCII value: ')\n",
    "\n",
    "print(f' ASCII value of \"{c}\" is {ord(c)}')"
   ]
  },
  {
   "cell_type": "markdown",
   "metadata": {},
   "source": [
    "###  5.\tWrite a Python Program to Make a Simple Calculator with 4 basic mathematical operations?"
   ]
  },
  {
   "cell_type": "code",
   "execution_count": 37,
   "metadata": {},
   "outputs": [],
   "source": [
    "def add(a,b):\n",
    "    print(f' Additon of {a} and {b} is: {a+b}.')\n",
    "def sub(a,b):\n",
    "    print(f' Subtraction of {a} and {b} is: {a-b}.')\n",
    "def mul(a,b):\n",
    "    print(f' Multiplication of {a} and {b} is: {a*b}.')\n",
    "def div(a,b):\n",
    "    print(f' Division of {a} and {b} is: {a/b}.')"
   ]
  },
  {
   "cell_type": "code",
   "execution_count": 38,
   "metadata": {},
   "outputs": [
    {
     "name": "stdout",
     "output_type": "stream",
     "text": [
      " Additon of 5 and 4 is: 9.\n",
      " Subtraction of 5 and 4 is: 1.\n",
      " Multiplication of 5 and 4 is: 20.\n",
      " Division of 5 and 4 is: 1.25.\n"
     ]
    }
   ],
   "source": [
    "add(5,4)\n",
    "sub(5,4)\n",
    "mul(5,4)\n",
    "div(5,4)"
   ]
  }
 ],
 "metadata": {
  "kernelspec": {
   "display_name": "Python 3",
   "language": "python",
   "name": "python3"
  },
  "language_info": {
   "codemirror_mode": {
    "name": "ipython",
    "version": 3
   },
   "file_extension": ".py",
   "mimetype": "text/x-python",
   "name": "python",
   "nbconvert_exporter": "python",
   "pygments_lexer": "ipython3",
   "version": "3.8.5"
  }
 },
 "nbformat": 4,
 "nbformat_minor": 4
}
