{
 "cells": [
  {
   "cell_type": "markdown",
   "metadata": {},
   "source": [
    "### 1.\tWrite a Python program to Extract Unique values dictionary values?"
   ]
  },
  {
   "cell_type": "code",
   "execution_count": 1,
   "metadata": {},
   "outputs": [
    {
     "name": "stdout",
     "output_type": "stream",
     "text": [
      "The Values in the dictionary is:\n",
      " ----------------------------------\n",
      "dict_values(['Name', 'class', 'Standard', 'Subject', 'School Name', 'Address', 'Name', 'Subject', 'Standard'])\n",
      "\n",
      " The unique values in the dictionary is:\n",
      " ---------------------------------------\n",
      "{'Address', 'class', 'Subject', 'School Name', 'Name', 'Standard'}\n"
     ]
    }
   ],
   "source": [
    "dict1 = {\n",
    "    'a': 'Name',\n",
    "    'b': 'class',\n",
    "    'c' : 'Standard',\n",
    "    'd' : 'Subject',\n",
    "    'e' : 'School Name',\n",
    "    'f' : 'Address',\n",
    "    'g' : 'Name',\n",
    "    'h' : 'Subject',\n",
    "    'i' : 'Standard'\n",
    "        }\n",
    "\n",
    "print(f'The Values in the dictionary is:\\n ----------------------------------\\n{dict1.values()}')\n",
    "\n",
    "set1 = set(dict1.values())\n",
    "\n",
    "print(f'\\n The unique values in the dictionary is:\\n ---------------------------------------\\n{set1}')"
   ]
  },
  {
   "cell_type": "markdown",
   "metadata": {},
   "source": [
    "### 2.\tWrite a Python program to find the sum of all items in a dictionary "
   ]
  },
  {
   "cell_type": "code",
   "execution_count": 2,
   "metadata": {},
   "outputs": [],
   "source": [
    "def sum_dict_values(a):\n",
    "    \n",
    "    values1 = a.values()\n",
    "\n",
    "    sum1 = 0\n",
    "    for i in values1:\n",
    "        sum1+=i\n",
    "    \n",
    "        \n",
    "    print(f'The values in the given dictionary are: \\n---------------------------------------\\n{a.values()}')\n",
    "    print(f'++++++++++++++++++++++++++++++++++++++++')\n",
    "    print(f'The sum of values in the dictionary is: \\n---------------------------------------\\n{sum1}')"
   ]
  },
  {
   "cell_type": "code",
   "execution_count": 3,
   "metadata": {},
   "outputs": [
    {
     "name": "stdout",
     "output_type": "stream",
     "text": [
      "The values in the given dictionary are: \n",
      "---------------------------------------\n",
      "dict_values([200, 100, 200, 300])\n",
      "++++++++++++++++++++++++++++++++++++++++\n",
      "The sum of values in the dictionary is: \n",
      "---------------------------------------\n",
      "800\n"
     ]
    }
   ],
   "source": [
    "a = {\n",
    "    'a': 200,\n",
    "    'b':100,\n",
    "    'c':200,\n",
    "    'd':300\n",
    "}\n",
    "sum_dict_values(a)"
   ]
  },
  {
   "cell_type": "markdown",
   "metadata": {},
   "source": [
    "### 3.\tWrite a Python program to Merging two Dictionaries? "
   ]
  },
  {
   "cell_type": "code",
   "execution_count": 4,
   "metadata": {},
   "outputs": [],
   "source": [
    "def merge_dict(dict2, dict3):\n",
    "    dict2.update(dict3)\n",
    "    return dict2"
   ]
  },
  {
   "cell_type": "code",
   "execution_count": 5,
   "metadata": {},
   "outputs": [
    {
     "name": "stdout",
     "output_type": "stream",
     "text": [
      "The first Dictionary is : {'fruits': 'apple', 'vegetable': 'potato', 'tree': 'banian', 'animal': 'lion'}\n",
      "------------------------------------------------------------------\n",
      "The Second Dictionary is :{'a': 10, 'b': 20, 'c': 30}\n",
      "------------------------------------------------------------------\n",
      "The merged Dictionary is:\n",
      "{'fruits': 'apple', 'vegetable': 'potato', 'tree': 'banian', 'animal': 'lion', 'a': 10, 'b': 20, 'c': 30}\n"
     ]
    }
   ],
   "source": [
    "dict2 = {\n",
    "    'fruits': 'apple',\n",
    "    'vegetable': 'potato',\n",
    "    'tree': 'banian',\n",
    "    'animal': 'lion'\n",
    "}\n",
    "\n",
    "dict3 = {\n",
    "    'a':10,\n",
    "    'b':20,\n",
    "    'c':30\n",
    "}\n",
    "print(f'The first Dictionary is : {dict2}\\n------------------------------------------------------------------')\n",
    "print(f'The Second Dictionary is :{dict3}\\n------------------------------------------------------------------')\n",
    "print(f'The merged Dictionary is:\\n{merge_dict(dict2, dict3)}')"
   ]
  },
  {
   "cell_type": "markdown",
   "metadata": {},
   "source": [
    "### 4.\tWrite a Python program to convert key-values list to flat dictionary? "
   ]
  },
  {
   "cell_type": "code",
   "execution_count": 6,
   "metadata": {},
   "outputs": [
    {
     "name": "stdout",
     "output_type": "stream",
     "text": [
      "The original dictionary is: \n",
      " {'a': ['Name', 'Age', 'Income'], 'b': ['John', 30, 25000]}\n",
      "{'Name': 'John', 'Age': 30, 'Income': 25000}\n"
     ]
    }
   ],
   "source": [
    "from itertools import product\n",
    "dict1 = {\n",
    "    'a': ['Name','Age','Income'],\n",
    "    'b': ['John', 30, 25000]    \n",
    "        }\n",
    "\n",
    "f_dict = dict(zip(dict1['a'], dict1['b']))\n",
    "print(f'The original dictionary is: \\n {dict1}')\n",
    "print(str(f_dict))  "
   ]
  },
  {
   "cell_type": "markdown",
   "metadata": {},
   "source": [
    "### 5.\tWrite a Python program to insertion at the beginning in Ordered Dict? "
   ]
  },
  {
   "cell_type": "code",
   "execution_count": 7,
   "metadata": {},
   "outputs": [
    {
     "name": "stdout",
     "output_type": "stream",
     "text": [
      "The original dictionary is :\n",
      "---------------------------\n",
      "OrderedDict([('a', 'Delhi'), ('b', 'Mumbai'), ('c', 'Bangalore')]) \n",
      "***********************************************************************************\n",
      "The Changed dictionary is :\n",
      "---------------------------- \n",
      "OrderedDict([('d', 'Kolkata'), ('a', 'Delhi'), ('b', 'Mumbai'), ('c', 'Bangalore')]) \n"
     ]
    }
   ],
   "source": [
    "from collections import OrderedDict\n",
    "\n",
    "dict3 = OrderedDict([( 'a','Delhi'), ('b', 'Mumbai'), ( 'c', 'Bangalore')])\n",
    "print(f\"The original dictionary is :\\n---------------------------\\n{dict3} \")\n",
    "print('***********************************************************************************')\n",
    "dict3.update({'d':'Kolkata'})\n",
    "\n",
    "dict3.move_to_end('d', last = False)\n",
    "\n",
    "print(f\"The Changed dictionary is :\\n---------------------------- \\n{dict3} \")"
   ]
  },
  {
   "cell_type": "markdown",
   "metadata": {},
   "source": [
    "### 6.\tWrite a Python program to check order of character in string using Ordered Dict()? "
   ]
  },
  {
   "cell_type": "code",
   "execution_count": 8,
   "metadata": {},
   "outputs": [
    {
     "name": "stdout",
     "output_type": "stream",
     "text": [
      "The string given is:\n",
      " Hi How are you\n",
      "-------------------------------\n",
      "The pattern entered is:\n",
      " are\n",
      "-------------------------------\n",
      "Given pattern is in order.\n"
     ]
    }
   ],
   "source": [
    "from collections import OrderedDict\n",
    "\n",
    "def order_check(dict4, pattern):\n",
    "    \n",
    "    ord_dict4 = OrderedDict.fromkeys(dict4)\n",
    "    p_len = 0\n",
    "    for key, value in ord_dict4.items():\n",
    "        if (key==pattern[p_len]):\n",
    "            p_len = p_len + 1\n",
    "\n",
    "        if (p_len == (len(pattern))):\n",
    "            return 'Given pattern is in order.' \n",
    "\n",
    "    return 'Given pattern is not in order.'\n",
    "\n",
    "dict4 = 'Hi How are you'\n",
    "in_pattern = 'are'\n",
    "print(f'The string given is:\\n {dict4}\\n-------------------------------')\n",
    "print(f'The pattern entered is:\\n {in_pattern}\\n-------------------------------')\n",
    "print(order_check(dict4, in_pattern))"
   ]
  },
  {
   "cell_type": "markdown",
   "metadata": {},
   "source": [
    "### 7.\tWrite a Python program to sort Python Dictionaries by Key or Value? "
   ]
  },
  {
   "cell_type": "code",
   "execution_count": 9,
   "metadata": {},
   "outputs": [
    {
     "name": "stdout",
     "output_type": "stream",
     "text": [
      "The keys in original dictionary is:\n",
      "dict_keys(['c', 'a', 'r'])\n",
      "***********************************\n",
      "The keys after sorted is:\n",
      "['a', 'c', 'r']\n"
     ]
    }
   ],
   "source": [
    "dict5 = {\n",
    "    'c':'apple',\n",
    "    'a':'banana',\n",
    "    'r':'pineapple'\n",
    "}\n",
    "print(f'The keys in original dictionary is:\\n{dict5.keys()}\\n***********************************')\n",
    "print(f'The keys after sorted is:\\n{sorted(dict5)}')"
   ]
  }
 ],
 "metadata": {
  "kernelspec": {
   "display_name": "Python 3",
   "language": "python",
   "name": "python3"
  },
  "language_info": {
   "codemirror_mode": {
    "name": "ipython",
    "version": 3
   },
   "file_extension": ".py",
   "mimetype": "text/x-python",
   "name": "python",
   "nbconvert_exporter": "python",
   "pygments_lexer": "ipython3",
   "version": "3.8.5"
  }
 },
 "nbformat": 4,
 "nbformat_minor": 4
}
