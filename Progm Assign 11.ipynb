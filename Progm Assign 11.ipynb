{
 "cells": [
  {
   "cell_type": "markdown",
   "metadata": {},
   "source": [
    "### 1.\tWrite a Python program to find words which are greater than given length k? "
   ]
  },
  {
   "cell_type": "code",
   "execution_count": 59,
   "metadata": {},
   "outputs": [
    {
     "name": "stdout",
     "output_type": "stream",
     "text": [
      " More than 9 character words are : \n",
      "***********************************************************************************************\n",
      "['Statistics', 'discipline', 'collection,', 'organization,', 'interpretation,', 'presentation']\n",
      "***********************************************************************************************\n"
     ]
    }
   ],
   "source": [
    "str1 = \" Statistics is the discipline that concerns the collection, organization, analysis, interpretation, and presentation of data.\"\n",
    "\n",
    "k = 9\n",
    "\n",
    "split_str = str1.split()\n",
    "\n",
    "selected_words = []\n",
    "\n",
    "for i in range(len(split_str)):\n",
    "    if len(split_str[i]) > k :\n",
    "        selected_words.append(split_str[i])\n",
    "print(f' More than {k} character words are : ')\n",
    "print('***********************************************************************************************')\n",
    "print(f'{selected_words}')\n",
    "print('***********************************************************************************************')"
   ]
  },
  {
   "cell_type": "markdown",
   "metadata": {},
   "source": [
    "### 2.\tWrite a Python program for removing i-th character from a string? "
   ]
  },
  {
   "cell_type": "code",
   "execution_count": 53,
   "metadata": {},
   "outputs": [
    {
     "name": "stdout",
     "output_type": "stream",
     "text": [
      "The Original string is: \n",
      " How are you\n",
      "**************************************\n",
      "After removing ith item, the string is: \n",
      "Hw are yu\n"
     ]
    }
   ],
   "source": [
    "str1 = (\"How are you\")\n",
    "\n",
    "i = 1\n",
    "\n",
    "removed_str= str1.replace(str1[i], '')\n",
    "\n",
    "print(f'The Original string is: \\n {str1}')\n",
    "\n",
    "print('**************************************')\n",
    "\n",
    "print(f'After removing ith item, the string is: \\n{removed_str}')"
   ]
  },
  {
   "cell_type": "markdown",
   "metadata": {},
   "source": [
    "### 3.\tWrite a Python program to split and join a string? "
   ]
  },
  {
   "cell_type": "code",
   "execution_count": 149,
   "metadata": {},
   "outputs": [
    {
     "data": {
      "text/plain": [
       "'Hi!+This+is+amazing.'"
      ]
     },
     "execution_count": 149,
     "metadata": {},
     "output_type": "execute_result"
    }
   ],
   "source": [
    "str1 = 'Hi! This is amazing.'\n",
    "\n",
    "splitted_str = str1.split()\n",
    "\n",
    "'+'.join(splitted_str)"
   ]
  },
  {
   "cell_type": "markdown",
   "metadata": {},
   "source": [
    "### 4.\tWrite a Python program to check if a given string is binary string or not?"
   ]
  },
  {
   "cell_type": "code",
   "execution_count": 54,
   "metadata": {},
   "outputs": [],
   "source": [
    "def check_binarystring(str1):\n",
    "\n",
    "    str1 = set(str1)\n",
    "    set1 = {'0', '1'}\n",
    "\n",
    "    if str1 == set1 or str1 == {'0'} or str1 == {'1'}:\n",
    "        print('The given string is binary string.')\n",
    "    else:\n",
    "        print ('The given string is not binary string')"
   ]
  },
  {
   "cell_type": "code",
   "execution_count": 55,
   "metadata": {},
   "outputs": [
    {
     "name": "stdout",
     "output_type": "stream",
     "text": [
      "The given string is binary string.\n"
     ]
    }
   ],
   "source": [
    "check_binarystring('01010101010')"
   ]
  },
  {
   "cell_type": "code",
   "execution_count": 56,
   "metadata": {},
   "outputs": [
    {
     "name": "stdout",
     "output_type": "stream",
     "text": [
      "The given string is not binary string\n"
     ]
    }
   ],
   "source": [
    "check_binarystring('0101nhbcaksc')"
   ]
  },
  {
   "cell_type": "markdown",
   "metadata": {},
   "source": [
    "### 5.\tWrite a Python program to find uncommon words from two Strings?"
   ]
  },
  {
   "cell_type": "code",
   "execution_count": 58,
   "metadata": {},
   "outputs": [
    {
     "name": "stdout",
     "output_type": "stream",
     "text": [
      " The uncommon words among two strings are: \n",
      " ------------------------------------------------------------\n",
      " ['are', 'you', 'I', 'am', 'fine,', 'is', 'your', 'brother']\n",
      " ------------------------------------------------------------\n"
     ]
    }
   ],
   "source": [
    "str1 = 'How are you'\n",
    "\n",
    "str2 = 'I am fine, How is your brother'\n",
    "\n",
    "split1 = str1.split()\n",
    "\n",
    "split2 = str2.split()\n",
    "\n",
    "common_words = []\n",
    "\n",
    "for i in split1:\n",
    "    if i not in split2:\n",
    "        common_words.append(i)\n",
    "\n",
    "for j in split2:\n",
    "    if j not in split1:\n",
    "        common_words.append(j)\n",
    "\n",
    "print(f' The uncommon words among two strings are: ')   \n",
    "print(f' ------------------------------------------------------------')\n",
    "print(f' {common_words}')\n",
    "print(f' ------------------------------------------------------------')"
   ]
  },
  {
   "cell_type": "markdown",
   "metadata": {},
   "source": [
    "### 6.\tWrite a Python program to find all duplicate characters in string?"
   ]
  },
  {
   "cell_type": "code",
   "execution_count": 19,
   "metadata": {},
   "outputs": [],
   "source": [
    "def duplicate_string(a):\n",
    "    \n",
    "    b = len(a)\n",
    "\n",
    "    c = set(a)\n",
    "\n",
    "    d = list(c)\n",
    "\n",
    "    e = len(d)\n",
    "\n",
    "    f = b - e\n",
    "    \n",
    "    return f"
   ]
  },
  {
   "cell_type": "code",
   "execution_count": 20,
   "metadata": {},
   "outputs": [
    {
     "data": {
      "text/plain": [
       "37"
      ]
     },
     "execution_count": 20,
     "metadata": {},
     "output_type": "execute_result"
    }
   ],
   "source": [
    "a = 'Write a Python to find all duplicate characters in string?'\n",
    "duplicate_string(a)"
   ]
  },
  {
   "cell_type": "code",
   "execution_count": 23,
   "metadata": {},
   "outputs": [
    {
     "data": {
      "text/plain": [
       "0"
      ]
     },
     "execution_count": 23,
     "metadata": {},
     "output_type": "execute_result"
    }
   ],
   "source": [
    "a = 'Nice'\n",
    "duplicate_string(a)"
   ]
  },
  {
   "cell_type": "markdown",
   "metadata": {},
   "source": [
    "### 7.\tWrite a Python Program to check if a string contains any special character?"
   ]
  },
  {
   "cell_type": "code",
   "execution_count": 47,
   "metadata": {},
   "outputs": [],
   "source": [
    "def find_special_character(a):\n",
    "    \n",
    "    special_character = \"[@_!#$%^&*()<>?/\\|}{~:]?\"\n",
    "\n",
    "    l1 = []\n",
    "    \n",
    "    for i in range(len(a)):\n",
    "        if a[i] in special_character:\n",
    "            l1.append(a[i])\n",
    "\n",
    "    if len(l1)>0:\n",
    "        print('The given string has Special Character')\n",
    "    else:\n",
    "        print('The given string not having any Special Character')"
   ]
  },
  {
   "cell_type": "code",
   "execution_count": 48,
   "metadata": {},
   "outputs": [
    {
     "name": "stdout",
     "output_type": "stream",
     "text": [
      "The given string has Special Character\n"
     ]
    }
   ],
   "source": [
    "a = 'Write a Python Program to check if a string contains any special character?'\n",
    "find_special_character(a)"
   ]
  },
  {
   "cell_type": "code",
   "execution_count": 49,
   "metadata": {},
   "outputs": [
    {
     "name": "stdout",
     "output_type": "stream",
     "text": [
      "The given string not having any Special Character\n"
     ]
    }
   ],
   "source": [
    "a = 'hi'\n",
    "find_special_character(a)"
   ]
  }
 ],
 "metadata": {
  "kernelspec": {
   "display_name": "Python 3",
   "language": "python",
   "name": "python3"
  },
  "language_info": {
   "codemirror_mode": {
    "name": "ipython",
    "version": 3
   },
   "file_extension": ".py",
   "mimetype": "text/x-python",
   "name": "python",
   "nbconvert_exporter": "python",
   "pygments_lexer": "ipython3",
   "version": "3.8.5"
  }
 },
 "nbformat": 4,
 "nbformat_minor": 4
}
