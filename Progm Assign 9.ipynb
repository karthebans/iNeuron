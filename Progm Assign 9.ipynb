{
 "cells": [
  {
   "cell_type": "markdown",
   "metadata": {},
   "source": [
    "### 1.\tWrite a Python program to check if the given number is a Disarium Number?"
   ]
  },
  {
   "cell_type": "code",
   "execution_count": 36,
   "metadata": {},
   "outputs": [
    {
     "name": "stdout",
     "output_type": "stream",
     "text": [
      "Enter the Number to find Disarium Number or Not: 175\n",
      "The number 175 is Disarium Number.\n"
     ]
    }
   ],
   "source": [
    "n = int(input('Enter the Number to find Disarium Number or Not: '))\n",
    "len1 = len(str(n))\n",
    "sum1=0\n",
    "n1 = n\n",
    "for i in range(1,len1+1):\n",
    "    digit = n1%10\n",
    "    sum1 = sum1+(digit**len1)\n",
    "    len1 = len1-1\n",
    "    n1 = n1//10\n",
    "\n",
    "# print(sum1)\n",
    "# print(n)\n",
    "if sum1 == n:\n",
    "    print(f'The number {n} is Disarium Number.')\n",
    "else:\n",
    "    print(f'The number {n} is not a Disarium Number.')"
   ]
  },
  {
   "cell_type": "markdown",
   "metadata": {},
   "source": [
    "###  2.\tWrite a Python program to print all disarium numbers between 1 to 100?"
   ]
  },
  {
   "cell_type": "code",
   "execution_count": 22,
   "metadata": {},
   "outputs": [
    {
     "name": "stdout",
     "output_type": "stream",
     "text": [
      "0\n",
      "1\n",
      "2\n",
      "3\n",
      "4\n",
      "5\n",
      "6\n",
      "7\n",
      "8\n",
      "9\n",
      "89\n"
     ]
    }
   ],
   "source": [
    "for n in range(100+1):\n",
    "    len1 = len(str(n))\n",
    "    sum1=0\n",
    "    n1 = n\n",
    "    for i in range(1,len1+1):\n",
    "        digit = n1%10\n",
    "        sum1 = sum1+(digit**len1)\n",
    "        len1 = len1-1\n",
    "        n1 = n1//10\n",
    "    \n",
    "    if sum1 == n:\n",
    "        print(n)       "
   ]
  },
  {
   "cell_type": "markdown",
   "metadata": {},
   "source": [
    "### 4.\tWrite a Python program to print all happy numbers between 1 and 100? "
   ]
  },
  {
   "cell_type": "code",
   "execution_count": 33,
   "metadata": {},
   "outputs": [
    {
     "name": "stdout",
     "output_type": "stream",
     "text": [
      "1\n",
      "7\n",
      "10\n",
      "13\n",
      "19\n",
      "23\n",
      "28\n",
      "31\n",
      "32\n",
      "44\n",
      "49\n",
      "68\n",
      "70\n",
      "79\n",
      "82\n",
      "86\n",
      "91\n",
      "94\n",
      "97\n",
      "100\n"
     ]
    }
   ],
   "source": [
    "def happy_num(n):\n",
    "    sum3 = 0\n",
    "    digit = 0\n",
    "    while n>0:\n",
    "        digit = n%10\n",
    "        sum3 = sum3 + (digit*digit)\n",
    "        n = n//10\n",
    "    return sum3\n",
    "\n",
    "for i in range(1,101):\n",
    "    num = i\n",
    "    while (num != 1 and num != 4):\n",
    "        num = happy_num(num)\n",
    "    if num == 1:\n",
    "        print(i)"
   ]
  },
  {
   "cell_type": "markdown",
   "metadata": {},
   "source": [
    "### 5.\tWrite a Python program to determine whether the given number is a Harshad Number? "
   ]
  },
  {
   "cell_type": "code",
   "execution_count": 34,
   "metadata": {},
   "outputs": [
    {
     "name": "stdout",
     "output_type": "stream",
     "text": [
      "The number 156 is Harshad Number\n"
     ]
    }
   ],
   "source": [
    "n = 156\n",
    "\n",
    "length = len(str(n))\n",
    "n1 = n\n",
    "sum_digit=0\n",
    "for i in range(1,length+1):\n",
    "    digit = n1%10\n",
    "    sum_digit += digit\n",
    "    n1 = n1//10\n",
    "sum_digit\n",
    "\n",
    "if n%sum_digit == 0:\n",
    "    print(f'The number {n} is Harshad Number')\n",
    "else:\n",
    "    print(f'The number {n} is not Harshad Number')"
   ]
  }
 ],
 "metadata": {
  "kernelspec": {
   "display_name": "Python 3",
   "language": "python",
   "name": "python3"
  },
  "language_info": {
   "codemirror_mode": {
    "name": "ipython",
    "version": 3
   },
   "file_extension": ".py",
   "mimetype": "text/x-python",
   "name": "python",
   "nbconvert_exporter": "python",
   "pygments_lexer": "ipython3",
   "version": "3.8.5"
  }
 },
 "nbformat": 4,
 "nbformat_minor": 4
}
