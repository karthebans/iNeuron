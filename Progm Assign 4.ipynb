{
 "cells": [
  {
   "cell_type": "markdown",
   "metadata": {},
   "source": [
    "### 1.\tWrite a Python Program to Find the Factorial of a Number? "
   ]
  },
  {
   "cell_type": "markdown",
   "metadata": {},
   "source": [
    "- Factorial is multiplying the numbers from 1 to end of that number"
   ]
  },
  {
   "cell_type": "code",
   "execution_count": 3,
   "metadata": {},
   "outputs": [
    {
     "name": "stdout",
     "output_type": "stream",
     "text": [
      "Please enter the number to find the factorial: 7\n",
      "5040\n"
     ]
    }
   ],
   "source": [
    "n = int(input('Please enter the number to find the factorial: ')) # Getting input number from USER \n",
    "                                                                           # to find factorial\n",
    "product = 1                                            # initially assigning the product is 1 to multiply all the \n",
    "                                                                 # numbers from 1 to end of that number\n",
    "for i in range(1, n+1):                               # since to iterate from 1 for loop and range function used\n",
    "    product = product*i                       # for every number, the number will multiply with previous product\n",
    "print(product)"
   ]
  },
  {
   "cell_type": "markdown",
   "metadata": {},
   "source": [
    "###  2.\tWrite a Python Program to Display the multiplication Table? "
   ]
  },
  {
   "cell_type": "markdown",
   "metadata": {},
   "source": [
    "- USING for loop"
   ]
  },
  {
   "cell_type": "code",
   "execution_count": 15,
   "metadata": {},
   "outputs": [
    {
     "name": "stdout",
     "output_type": "stream",
     "text": [
      "Enter the Table Number:  11\n",
      "11 X 1  = 11\n",
      "11 X 2  = 22\n",
      "11 X 3  = 33\n",
      "11 X 4  = 44\n",
      "11 X 5  = 55\n",
      "11 X 6  = 66\n",
      "11 X 7  = 77\n",
      "11 X 8  = 88\n",
      "11 X 9  = 99\n",
      "11 X 10  = 110\n"
     ]
    }
   ],
   "source": [
    "table_num = int(input('Enter the Table Number:  '))   # Getting Table number from the USER\n",
    "\n",
    "for num in range(1, 11):                               # iterating from 1 to 10 to print table upto 10 \n",
    "    product1 = table_num * num                            # multiplying every iterating number with table number\n",
    "    print(f'{table_num} X {num}  = {product1}')                   # printing the product in the standard format"
   ]
  },
  {
   "cell_type": "markdown",
   "metadata": {},
   "source": [
    "- USING while loop"
   ]
  },
  {
   "cell_type": "code",
   "execution_count": 4,
   "metadata": {},
   "outputs": [
    {
     "name": "stdout",
     "output_type": "stream",
     "text": [
      "Enter the Table Number:  10\n",
      "10 X 1 = 10\n",
      "10 X 2 = 20\n",
      "10 X 3 = 30\n",
      "10 X 4 = 40\n",
      "10 X 5 = 50\n",
      "10 X 6 = 60\n",
      "10 X 7 = 70\n",
      "10 X 8 = 80\n",
      "10 X 9 = 90\n",
      "10 X 10 = 100\n"
     ]
    }
   ],
   "source": [
    "table_no = int(input('Enter the Table Number:  '))                # Getting Table number from the USER\n",
    "\n",
    "i = 1                                                           # defining the starting number for while loop\n",
    "\n",
    "while i<=10:                                                       #while loop for iterating from 1 to 10\n",
    "    multiply = table_no * i                                            # multiplying the number\n",
    "    print(f'{table_no} X {i} = {multiply}')                                # printing the number\n",
    "    i+=1                                                                   # incrementing the 'i' value    "
   ]
  },
  {
   "cell_type": "markdown",
   "metadata": {},
   "source": [
    "### 3.\tWrite a Python Program to Print the Fibonacci sequence? "
   ]
  },
  {
   "cell_type": "markdown",
   "metadata": {},
   "source": [
    "- Fibonacci sequence is the sequence of number which is addition of previous 2 numbers"
   ]
  },
  {
   "cell_type": "code",
   "execution_count": 115,
   "metadata": {},
   "outputs": [
    {
     "name": "stdout",
     "output_type": "stream",
     "text": [
      "Enter the number for Finonacci Sequence: 10\n",
      "[0, 1, 1, 2, 3, 5, 8, 13, 21, 34, 55]\n"
     ]
    }
   ],
   "source": [
    "no_of_times = int(input('Enter the number for Finonacci Sequence: '))   # Getting number from the USER\n",
    "\n",
    "first_number = 0                                           # starting 2 number has to be declared to start\n",
    "second_number = 1\n",
    "\n",
    "list_finonacci = []                          # creating empty list to insert finonacci numbers in it\n",
    "\n",
    "count=0                                            # defining the starting count to repeat the action\n",
    "\n",
    "while (count<=no_of_times):                     # while loop to repeat the action till no_of_times\n",
    "    \n",
    "    list_finonacci.append(first_number)                  # appending all the finonacci numbers in the list         \n",
    "    \n",
    "    next_number = first_number + second_number                    # getting addition of previous 2 numbers\n",
    "    \n",
    "    first_number = second_number                      # changing the value in the first number byo second number\n",
    "    \n",
    "    second_number = next_number                  # changing the value in the variable second number by next number\n",
    "    \n",
    "    count+=1                       # increment the count value to repeat the above action till no of times value  \n",
    "    \n",
    "print(list_finonacci)   "
   ]
  },
  {
   "cell_type": "markdown",
   "metadata": {},
   "source": [
    "### 4.\tWrite a Python Program to Check Armstrong Number?"
   ]
  },
  {
   "cell_type": "markdown",
   "metadata": {},
   "source": [
    "- Armstrong number is the number in which the sum of each element multiplied by no. of times of its length is equal to the number itself."
   ]
  },
  {
   "cell_type": "code",
   "execution_count": 116,
   "metadata": {},
   "outputs": [
    {
     "name": "stdout",
     "output_type": "stream",
     "text": [
      "Enter the number to check Armstrong or not: 407\n",
      "The given number 407 is a Armstrong number.\n"
     ]
    }
   ],
   "source": [
    "a = input('Enter the number to check Armstrong or not: ')   # getting the number in 'string' type to \n",
    "                                                                  # check Armstrong or not\n",
    "list1 = []                                            # creating empty list to add numbers\n",
    "n = len(a)                                             # finding length of given number to multiply accordingly\n",
    "\n",
    "for i in a:                                           # for loop to iterate each element \n",
    "    i = int(i)                                       # convert the string to integer to do multiplication\n",
    "    b = i**n                                          # multiplying the element by itselt upto length of number\n",
    "    list1.append(b)                                             # adding each element in the empty list             \n",
    "#print(list1)\n",
    "sum(list1)                                           # adding each element in the list to find the total\n",
    "\n",
    "c = str(sum(list1))                      # converting the sum of list to string to compare with original number\n",
    "\n",
    "if a == c:                                  # checking whether the original number is equal to sum of list\n",
    "    print(f'The given number {a} is a Armstrong number.')\n",
    "else:\n",
    "    print(f'The given number {a} is not a Armstrong number.')"
   ]
  },
  {
   "cell_type": "markdown",
   "metadata": {},
   "source": [
    "### 5.\tWrite a Python Program to Find Armstrong Number in an Interval? "
   ]
  },
  {
   "cell_type": "code",
   "execution_count": 25,
   "metadata": {},
   "outputs": [
    {
     "name": "stdout",
     "output_type": "stream",
     "text": [
      "Enter the starting number: 1\n",
      "Enter the end number : 1000\n"
     ]
    },
    {
     "data": {
      "text/plain": [
       "[1, 2, 3, 4, 5, 6, 7, 8, 9, 153, 370, 371, 407]"
      ]
     },
     "execution_count": 25,
     "metadata": {},
     "output_type": "execute_result"
    }
   ],
   "source": [
    "a = int(input('Enter the starting number: '))   # getting the number from the USER\n",
    "b = int(input('Enter the end number : '))          \n",
    "\n",
    "list3 = []                                       # creating a empty list to add the Armstrong numbers\n",
    "             \n",
    "for i in range(a, b+1):                          # for loop to iterate each element \n",
    "    n = len(str(i))                       # finding length of digit in the number by converting number into string\n",
    "    sum1 = 0\n",
    "    j=i                                    # assigning the value in the variable 'i' to another variable 'j'\n",
    "    while j>0:\n",
    "        x = j%10              # dividing the number by 10 to get the remainder which is last digit in the number       \n",
    "        sum1+= x**n                         # multiplying the element by itselt to the power of length of number\n",
    "        j//=10                                      # dividing the 'j' value by 10 to remove the onece place value\n",
    "    if sum1 == i:                                  # checking whether the original number is equal to sum of number\n",
    "        list3.append(i)\n",
    "list3"
   ]
  },
  {
   "cell_type": "markdown",
   "metadata": {},
   "source": [
    "### 6.\tWrite a Python Program to Find the Sum of Natural Numbers? "
   ]
  },
  {
   "cell_type": "markdown",
   "metadata": {},
   "source": [
    " - Natutal numbers are numbers which is positive numbers starting from 1."
   ]
  },
  {
   "cell_type": "code",
   "execution_count": 32,
   "metadata": {},
   "outputs": [
    {
     "name": "stdout",
     "output_type": "stream",
     "text": [
      "Enter the Natural number to find the sum:  10\n",
      "The sum of natural number up to 10 is: 55\n"
     ]
    }
   ],
   "source": [
    "number = int(input('Enter the Natural number to find the sum:  '))   # getting number from USER\n",
    "\n",
    "sum2 = 0                            # creating sum2 variable with o value to add sum of numbers\n",
    "\n",
    "if (number>0):                            # Using if loop checking whether number is Natural number or not.\n",
    "    for i in range(1, number+1):              # if the number is natural number iterating each element\n",
    "        sum2 += i                      # adding each number starting from 1 up to number entered by the USER\n",
    "    print(f'The sum of natural number up to {number} is: {sum2}') \n",
    "else:\n",
    "    print('Please enter the Natural Number only.')     # If entered number is not natural asking USER to enter again the natural number"
   ]
  }
 ],
 "metadata": {
  "kernelspec": {
   "display_name": "Python 3",
   "language": "python",
   "name": "python3"
  },
  "language_info": {
   "codemirror_mode": {
    "name": "ipython",
    "version": 3
   },
   "file_extension": ".py",
   "mimetype": "text/x-python",
   "name": "python",
   "nbconvert_exporter": "python",
   "pygments_lexer": "ipython3",
   "version": "3.8.5"
  }
 },
 "nbformat": 4,
 "nbformat_minor": 4
}
