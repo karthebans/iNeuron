{
 "cells": [
  {
   "cell_type": "markdown",
   "metadata": {},
   "source": [
    "### 1.\tWrite a Python program to find sum of elements in list?"
   ]
  },
  {
   "cell_type": "code",
   "execution_count": 4,
   "metadata": {},
   "outputs": [
    {
     "name": "stdout",
     "output_type": "stream",
     "text": [
      "15\n"
     ]
    }
   ],
   "source": [
    "l = [1,2,3,4,5]\n",
    "\n",
    "sum1 = 0\n",
    "for i in l:\n",
    "    sum1+=i\n",
    "print(sum1)"
   ]
  },
  {
   "cell_type": "markdown",
   "metadata": {},
   "source": [
    "### 2.\tWrite a Python program to  Multiply all numbers in the list? "
   ]
  },
  {
   "cell_type": "code",
   "execution_count": 5,
   "metadata": {},
   "outputs": [
    {
     "name": "stdout",
     "output_type": "stream",
     "text": [
      "120\n"
     ]
    }
   ],
   "source": [
    "l1 = [1,2,3,4,5]\n",
    "\n",
    "prod_list = 1\n",
    "\n",
    "for i in l1:\n",
    "    prod_list *= i\n",
    "print(prod_list)"
   ]
  },
  {
   "cell_type": "markdown",
   "metadata": {},
   "source": [
    "### 3.\tWrite a Python program to find smallest number in a list? "
   ]
  },
  {
   "cell_type": "code",
   "execution_count": 9,
   "metadata": {},
   "outputs": [
    {
     "name": "stdout",
     "output_type": "stream",
     "text": [
      "The samllest number is 2\n"
     ]
    }
   ],
   "source": [
    "l2 = [3,6,2,8,5]\n",
    "\n",
    "l2.sort()\n",
    "\n",
    "print(f'The samllest number is {l2[0]}')"
   ]
  },
  {
   "cell_type": "markdown",
   "metadata": {},
   "source": [
    "### 4.\tWrite a Python program to find largest number in a list?"
   ]
  },
  {
   "cell_type": "code",
   "execution_count": 11,
   "metadata": {},
   "outputs": [
    {
     "name": "stdout",
     "output_type": "stream",
     "text": [
      " The largest number is: 100 \n"
     ]
    }
   ],
   "source": [
    "l3 = [33,45,23,67,89,100]\n",
    "\n",
    "l3.sort()\n",
    "\n",
    "print(f' The largest number is: {l3[-1]} ')"
   ]
  },
  {
   "cell_type": "markdown",
   "metadata": {},
   "source": [
    "### 5.\tWrite a Python program to find second largest number in a list? "
   ]
  },
  {
   "cell_type": "code",
   "execution_count": 16,
   "metadata": {},
   "outputs": [
    {
     "name": "stdout",
     "output_type": "stream",
     "text": [
      "The second largest number is: 89\n"
     ]
    }
   ],
   "source": [
    "l4 = [33,45,23,67,89,100]\n",
    "\n",
    "l4.sort()\n",
    "\n",
    "print(f'The second largest number is: {l4[-2]}')"
   ]
  },
  {
   "cell_type": "markdown",
   "metadata": {},
   "source": [
    "### 6.\tWrite a Python program to find N largest elements from a list?"
   ]
  },
  {
   "cell_type": "code",
   "execution_count": 23,
   "metadata": {},
   "outputs": [],
   "source": [
    "def max_numbers(l5, n):\n",
    "    \n",
    "    max_list = []\n",
    "    \n",
    "    for i in range (0,n):\n",
    "        max_no = 0\n",
    "        \n",
    "        for j in range(len(l5)):\n",
    "            if l5[j] > max_no:\n",
    "                max_no = l5[j]\n",
    "                \n",
    "        l5.remove(max_no)\n",
    "        max_list.append(max_no)\n",
    "        \n",
    "    print(max_list)"
   ]
  },
  {
   "cell_type": "code",
   "execution_count": 24,
   "metadata": {},
   "outputs": [
    {
     "name": "stdout",
     "output_type": "stream",
     "text": [
      "[77, 67, 56]\n"
     ]
    }
   ],
   "source": [
    "max_numbers([45,3,67,9,23,56,77], 3)"
   ]
  },
  {
   "cell_type": "markdown",
   "metadata": {},
   "source": [
    "### 7.\tWrite a Python program to print even numbers in a list? "
   ]
  },
  {
   "cell_type": "code",
   "execution_count": 57,
   "metadata": {},
   "outputs": [
    {
     "name": "stdout",
     "output_type": "stream",
     "text": [
      "[2, 4, 22, 44, 88]\n"
     ]
    }
   ],
   "source": [
    "def even_no(l6):\n",
    "    \n",
    "    even_no_list = []\n",
    "\n",
    "    for i in range(len(l6)):\n",
    "        if (l6[i]%2 == 0):\n",
    "            even_no_list.append(l6[i])\n",
    "\n",
    "    print(even_no_list)\n",
    "\n",
    "even_no([2,4,3,7,9,22,67,55,44,88])\n"
   ]
  },
  {
   "cell_type": "markdown",
   "metadata": {},
   "source": [
    "### 8.\tWrite a Python program to print odd numbers in a List? "
   ]
  },
  {
   "cell_type": "code",
   "execution_count": 58,
   "metadata": {},
   "outputs": [
    {
     "name": "stdout",
     "output_type": "stream",
     "text": [
      "[3, 7, 9, 67, 55]\n"
     ]
    }
   ],
   "source": [
    "def odd_no(l6):\n",
    "    \n",
    "    odd_no_list = []\n",
    "\n",
    "    for i in range(len(l6)):\n",
    "        if (l6[i]%2 != 0):\n",
    "            odd_no_list.append(l6[i])\n",
    "\n",
    "    print(odd_no_list)\n",
    "\n",
    "odd_no([2,4,3,7,9,22,67,55,44,88])"
   ]
  },
  {
   "cell_type": "markdown",
   "metadata": {},
   "source": [
    "### 9.\tWrite a Python program to Remove empty List from List? "
   ]
  },
  {
   "cell_type": "code",
   "execution_count": 87,
   "metadata": {},
   "outputs": [
    {
     "name": "stdout",
     "output_type": "stream",
     "text": [
      "[[1, 2, 3, 4], [5, 6, 7, 8], [3, 4, 5]]\n"
     ]
    }
   ],
   "source": [
    "l7 = [[1,2,3,4], [], [5,6,7,8], [], [], [], [3,4,5]]\n",
    "\n",
    "a = list(filter(None, l7))\n",
    "\n",
    "print(a)"
   ]
  },
  {
   "cell_type": "markdown",
   "metadata": {},
   "source": [
    "### 10.\tWrite a Python program to Cloning or Copying a list? "
   ]
  },
  {
   "cell_type": "code",
   "execution_count": 95,
   "metadata": {},
   "outputs": [
    {
     "name": "stdout",
     "output_type": "stream",
     "text": [
      "[1, 2, 3, 4, 5]\n",
      "[1, 2, 3, 4, 5]\n"
     ]
    }
   ],
   "source": [
    "l8 = [1,2,3,4,5]\n",
    "\n",
    "l8_copy = []\n",
    "\n",
    "l8_copy.extend(l8)\n",
    "\n",
    "print(l8)\n",
    "\n",
    "print(l8_copy)"
   ]
  },
  {
   "cell_type": "markdown",
   "metadata": {},
   "source": [
    "### 11.\tWrite a Python program to Count occurrences of an element in a list?"
   ]
  },
  {
   "cell_type": "code",
   "execution_count": 97,
   "metadata": {},
   "outputs": [
    {
     "name": "stdout",
     "output_type": "stream",
     "text": [
      "No. of times 5 occured in the list is: 3\n"
     ]
    }
   ],
   "source": [
    "l9 = [1,2,3,2,4,1,5,4,6,5,7,3,5,6,8,9,8,9,3]\n",
    "\n",
    "element = 5\n",
    "count = 0\n",
    "for i in l9:\n",
    "    if (element == i):\n",
    "        count+=1\n",
    "print(f'No. of times {element} occured in the list is: {count}')"
   ]
  }
 ],
 "metadata": {
  "kernelspec": {
   "display_name": "Python 3",
   "language": "python",
   "name": "python3"
  },
  "language_info": {
   "codemirror_mode": {
    "name": "ipython",
    "version": 3
   },
   "file_extension": ".py",
   "mimetype": "text/x-python",
   "name": "python",
   "nbconvert_exporter": "python",
   "pygments_lexer": "ipython3",
   "version": "3.8.5"
  }
 },
 "nbformat": 4,
 "nbformat_minor": 4
}
