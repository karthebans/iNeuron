{
 "cells": [
  {
   "cell_type": "markdown",
   "metadata": {},
   "source": [
    "- Cassandra Task from Kartheban S"
   ]
  },
  {
   "cell_type": "markdown",
   "metadata": {},
   "source": [
    "# What is Apache Cassandra?\n",
    "\n",
    "Cassandra is a NoSQL distributed database. By design, NoSQL databases are lightweight, open-source, non-relational, and largely distributed. Counted among their strengths are horizontal scalability, distributed architectures, and a flexible approach to schema definition.\n",
    "\n",
    "NoSQL databases enable rapid, ad-hoc organization and analysis of extremely high-volume, disparate data types. That’s become more important in recent years, with the advent of Big Data and the need to rapidly scale databases in the cloud. Cassandra is among the NoSQL databases that have addressed the constraints of previous data management technologies, such as SQL databases.  "
   ]
  },
  {
   "cell_type": "markdown",
   "metadata": {},
   "source": [
    "## Connection to the Cassandra Cloud Server "
   ]
  },
  {
   "cell_type": "code",
   "execution_count": 39,
   "metadata": {},
   "outputs": [
    {
     "name": "stdout",
     "output_type": "stream",
     "text": [
      "None\n"
     ]
    }
   ],
   "source": [
    "from cassandra.cluster import Cluster\n",
    "from cassandra.auth import PlainTextAuthProvider\n",
    "\n",
    "try:\n",
    "\n",
    "    cloud_config= {'secure_connect_bundle': \"D:\\\\secure-connect-test.zip\"} # Path from the local computer\n",
    "    # username, password has to be get it from cassandra cloud login\n",
    "    auth_provider = PlainTextAuthProvider('PdPGdjjMOTQnLZOqQNLLFZBe', ',kwIyBfuO9s-PJ-n1qqXnvZU66Zjd2GhzpyzjFN.NpkEeHXBvd1B57E+WzGB6Xz+C,A_rg-mU,r75n3eWn9BwuAD2n,Y0jEwhj4UL3aZ-6momA6PZj_X45.u6pPNbDSy') \n",
    "    cluster = Cluster(cloud=cloud_config, auth_provider=auth_provider)\n",
    "    session = cluster.connect()\n",
    "\n",
    "       \n",
    "except Exception as e:\n",
    "    \n",
    "    print(str(e))"
   ]
  },
  {
   "cell_type": "markdown",
   "metadata": {},
   "source": [
    "## CREATING A TABLE:\n",
    "\n",
    "A CQL table has a name and is composed of a set of rows. Creating a table amounts to defining which columns the rows will be composed, which of those columns compose the primary key, as well as optional options for the table.\n",
    "\n",
    "Attempting to create an already existing table will return an error unless the IF NOT EXISTS directive is used. If it is used, the statement will be a no-op if the table already exists\n"
   ]
  },
  {
   "cell_type": "code",
   "execution_count": 62,
   "metadata": {},
   "outputs": [],
   "source": [
    "from cassandra.cluster import Cluster\n",
    "from cassandra.auth import PlainTextAuthProvider\n",
    "\n",
    "try:\n",
    "\n",
    "    cloud_config= {'secure_connect_bundle': \"D:\\\\secure-connect-test.zip\"} # Path from the local computer\n",
    "    # username, password has to be get it from cassandra cloud login\n",
    "    auth_provider = PlainTextAuthProvider('PdPGdjjMOTQnLZOqQNLLFZBe', ',kwIyBfuO9s-PJ-n1qqXnvZU66Zjd2GhzpyzjFN.NpkEeHXBvd1B57E+WzGB6Xz+C,A_rg-mU,r75n3eWn9BwuAD2n,Y0jEwhj4UL3aZ-6momA6PZj_X45.u6pPNbDSy') \n",
    "    cluster = Cluster(cloud=cloud_config, auth_provider=auth_provider)\n",
    "    session = cluster.connect()\n",
    "\n",
    "    row = session.execute(\"CREATE TABLE karthe.carbonnanotube(X1 int PRIMARY KEY, X2 int, X3 int, X4 int, X5 int, X6 int, X7 int, X8 int);\").one()\n",
    "    print(row)\n",
    "    \n",
    "except Exception as e:\n",
    "    \n",
    "    print(str(e))"
   ]
  },
  {
   "cell_type": "markdown",
   "metadata": {},
   "source": [
    "None"
   ]
  },
  {
   "cell_type": "markdown",
   "metadata": {},
   "source": [
    "## INSERTING DATA IN TO TABLE:\n",
    "\n",
    "The INSERT statement writes one or more columns for a given row in a table. Note that since a row is identified by its PRIMARY KEY, at least the columns composing it must be specified. The list of columns to insert to must be supplied when using the VALUES syntax. When using the JSON syntax, they are optional. See the section on JSON support for more detail.\n",
    "\n",
    "Note that unlike in SQL, INSERT does not check the prior existence of the row by default: the row is created if none existed before, and updated otherwise. Furthermore, there is no mean to know which of creation or update happened.\n",
    "\n",
    "It is however possible to use the IF NOT EXISTS condition to only insert if the row does not exist prior to the insertion. But please note that using IF NOT EXISTS will incur a non negligible performance cost (internally, Paxos will be used) so this should be used sparingly.\n",
    "\n",
    "All updates for an INSERT are applied atomically and in isolation.\n",
    "\n",
    "Please refer to the UPDATE section for informations on the update_parameter.\n",
    "\n",
    "Also note that INSERT does not support counters, while UPDATE does."
   ]
  },
  {
   "cell_type": "code",
   "execution_count": 65,
   "metadata": {},
   "outputs": [
    {
     "name": "stdout",
     "output_type": "stream",
     "text": [
      "The Inserted Table details are: \n",
      "---------------------------------------\n",
      "\n",
      "Row(x1=10, x2=20, x3=30, x4=40, x5=50, x6=60, x7=70, x8=80)\n",
      "Row(x1=22, x2=43, x3=56, x4=78, x5=21, x6=56, x7=78, x8=97)\n"
     ]
    }
   ],
   "source": [
    "from cassandra.cluster import Cluster\n",
    "from cassandra.auth import PlainTextAuthProvider\n",
    "import csv\n",
    "\n",
    "\n",
    "try:  \n",
    "    cloud_config= {'secure_connect_bundle': \"D:\\\\secure-connect-test.zip\"}\n",
    "    auth_provider = PlainTextAuthProvider('PdPGdjjMOTQnLZOqQNLLFZBe', ',kwIyBfuO9s-PJ-n1qqXnvZU66Zjd2GhzpyzjFN.NpkEeHXBvd1B57E+WzGB6Xz+C,A_rg-mU,r75n3eWn9BwuAD2n,Y0jEwhj4UL3aZ-6momA6PZj_X45.u6pPNbDSy')\n",
    "    cluster = Cluster(cloud=cloud_config, auth_provider=auth_provider)\n",
    "    session = cluster.connect()\n",
    "\n",
    "    row = session.execute(\"INSERT INTO karthe.carbonnanotube(X1, X2 , X3 , X4 , X5 , X6 , X7 , X8 ) values (22,43,56,78,21,56,78,97);\")\n",
    "    \n",
    "    row1 = session.execute(\"select * from karthe.carbonnanotube;\")\n",
    "    print(\"The Inserted Table details are: \\n---------------------------------------\\n\")\n",
    "    for row in row1:\n",
    "        print(row)\n",
    "        \n",
    "except Exception as e:\n",
    "    \n",
    "    print(str(e))"
   ]
  },
  {
   "cell_type": "code",
   "execution_count": 51,
   "metadata": {},
   "outputs": [
    {
     "name": "stdout",
     "output_type": "stream",
     "text": [
      "Row(x1=33, x2=44, x3=55, x4=66, x5=77, x6=88, x7=99, x8=11)\n",
      "Row(x1=10, x2=20, x3=30, x4=40, x5=50, x6=60, x7=70, x8=80)\n",
      "Row(x1=22, x2=43, x3=56, x4=78, x5=21, x6=56, x7=78, x8=97)\n"
     ]
    }
   ],
   "source": [
    "try:\n",
    "    session.execute(\"INSERT INTO karthe.carbonnanotube(X1, X2 , X3 , X4 , X5 , X6 , X7 , X8 ) values (33,44,55,66,77,88,99,11);\")\n",
    "    row1 = session.execute(\"select * from karthe.carbonnanotube;\")\n",
    "    for i in row1:\n",
    "        print(i)\n",
    "    \n",
    "except Exception as e:    \n",
    "    print(str(e))"
   ]
  },
  {
   "cell_type": "markdown",
   "metadata": {},
   "source": [
    "## UPDATE TABLE:\n",
    "\n",
    "The UPDATE statement writes one or more columns for a given row in a table. The where_clause is used to select the row to update and must include all columns composing the PRIMARY KEY. Non primary key columns are then set using the SET keyword.\n",
    "\n",
    "Note that unlike in SQL, UPDATE does not check the prior existence of the row by default (except through IF, see below): the row is created if none existed before, and updated otherwise. Furthermore, there are no means to know whether a creation or update occurred.\n",
    "\n",
    "It is however possible to use the conditions on some columns through IF, in which case the row will not be updated unless the conditions are met. But, please note that using IF conditions will incur a non-negligible performance cost (internally, Paxos will be used) so this should be used sparingly."
   ]
  },
  {
   "cell_type": "code",
   "execution_count": 71,
   "metadata": {},
   "outputs": [
    {
     "name": "stdout",
     "output_type": "stream",
     "text": [
      "The updated Table is: \n",
      "------------------------------------\n",
      "\n",
      "Row(x1=10, x2=20, x3=12345, x4=40, x5=50, x6=60, x7=70, x8=80)\n",
      "Row(x1=22, x2=43, x3=56, x4=78, x5=21, x6=56, x7=78, x8=97)\n"
     ]
    }
   ],
   "source": [
    "try:\n",
    "    \n",
    "    session.execute(\"UPDATE karthe.carbonnanotube SET X3 =12345 WHERE X1=10\") # Primary key is X1\n",
    "    row1 = session.execute(\"select * from karthe.carbonnanotube;\")\n",
    "    print(\"The updated Table is: \\n------------------------------------\\n\")\n",
    "    for row in row1:\n",
    "        print(row)\n",
    "\n",
    "except Exception as e:    \n",
    "    print(str(e))"
   ]
  },
  {
   "cell_type": "markdown",
   "metadata": {},
   "source": [
    "## ALTER TABLE:\n",
    "\n",
    "The ALTER TABLE statement can:\n",
    "\n",
    "    Add new column(s) to the table (through the ADD instruction). Note that the primary key of a table cannot be changed and thus newly added column will, by extension, never be part of the primary key. Also note that compact tables have restrictions regarding column addition. Note that this is constant (in the amount of data the cluster contains) time operation.\n",
    "    \n",
    "    Remove column(s) from the table. This drops both the column and all its content, but note that while the column becomes immediately unavailable, its content is only removed lazily during compaction. Please also see the warnings below. Due to lazy removal, the altering itself is a constant (in the amount of data removed or contained in the cluster) time operation.\n",
    "    \n",
    "    Change some of the table options (through the WITH instruction). The supported options are the same that when creating a table (outside of CLUSTERING ORDER that cannot be changed after creation). Note that setting any compaction sub-options has the effect of erasing all previous compaction options, so you need to re-specify all the sub-options if you want to keep them. The same note applies to the set of compression sub-options.\n",
    " "
   ]
  },
  {
   "cell_type": "code",
   "execution_count": 55,
   "metadata": {},
   "outputs": [
    {
     "name": "stdout",
     "output_type": "stream",
     "text": [
      "Row(x1=33, age=None, x2=44, x3=12345, x4=66, x5=77, x6=88, x7=99, x8=11)\n",
      "Row(x1=10, age=None, x2=20, x3=30, x4=40, x5=50, x6=60, x7=70, x8=80)\n",
      "Row(x1=22, age=None, x2=43, x3=56, x4=78, x5=21, x6=56, x7=78, x8=97)\n"
     ]
    }
   ],
   "source": [
    "try:\n",
    "    session.execute(\"ALTER TABLE karthe.carbonnanotube ADD age varchar;\")\n",
    "    row1 = session.execute(\"select * from karthe.carbonnanotube;\")\n",
    "    for row in row1:\n",
    "        print(row)\n",
    "\n",
    "except Exception as e:    \n",
    "    print(str(e))"
   ]
  },
  {
   "cell_type": "markdown",
   "metadata": {},
   "source": [
    "## DROP COLUMN:"
   ]
  },
  {
   "cell_type": "code",
   "execution_count": 56,
   "metadata": {},
   "outputs": [
    {
     "name": "stdout",
     "output_type": "stream",
     "text": [
      "Row(x1=33, x2=44, x3=12345, x4=66, x5=77, x6=88, x7=99, x8=11)\n",
      "Row(x1=10, x2=20, x3=30, x4=40, x5=50, x6=60, x7=70, x8=80)\n",
      "Row(x1=22, x2=43, x3=56, x4=78, x5=21, x6=56, x7=78, x8=97)\n"
     ]
    }
   ],
   "source": [
    "try:\n",
    "    \n",
    "    session.execute(\"ALTER TABLE karthe.carbonnanotube DROP age;\")\n",
    "    row1 = session.execute(\"select * from karthe.carbonnanotube;\") \n",
    "    for row in row1:\n",
    "        print(row)\n",
    "        \n",
    "except Exception as e:    \n",
    "    print(str(e))       "
   ]
  },
  {
   "cell_type": "markdown",
   "metadata": {},
   "source": [
    "## DELETE COLUMN:  "
   ]
  },
  {
   "cell_type": "code",
   "execution_count": 57,
   "metadata": {},
   "outputs": [
    {
     "name": "stdout",
     "output_type": "stream",
     "text": [
      "Row(x1=10, x2=20, x3=30, x4=40, x5=50, x6=60, x7=70, x8=80)\n",
      "Row(x1=22, x2=43, x3=56, x4=78, x5=21, x6=56, x7=78, x8=97)\n"
     ]
    }
   ],
   "source": [
    "try:\n",
    "    session.execute(\"DELETE FROM karthe.carbonnanotube WHERE X1=33;\")\n",
    "    row1 = session.execute(\"select * from karthe.carbonnanotube;\") \n",
    "    for row in row1:\n",
    "        print(row) \n",
    "        \n",
    "except Exception as e:    \n",
    "    print(str(e)) "
   ]
  }
 ],
 "metadata": {
  "kernelspec": {
   "display_name": "Python 3",
   "language": "python",
   "name": "python3"
  },
  "language_info": {
   "codemirror_mode": {
    "name": "ipython",
    "version": 3
   },
   "file_extension": ".py",
   "mimetype": "text/x-python",
   "name": "python",
   "nbconvert_exporter": "python",
   "pygments_lexer": "ipython3",
   "version": "3.8.5"
  }
 },
 "nbformat": 4,
 "nbformat_minor": 4
}
